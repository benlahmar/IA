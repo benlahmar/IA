{
 "cells": [
  {
   "cell_type": "code",
   "execution_count": 36,
   "metadata": {},
   "outputs": [
    {
     "name": "stdout",
     "output_type": "stream",
     "text": [
      "\n",
      "Boucle interrompue pour x = 5\n"
     ]
    }
   ],
   "source": [
    "for x in range(1, 11): # 1, 2, 3, 4, 5, 6, 7, 8, 9, 10\n",
    "    if x == 5:\n",
    "        break\n",
    "        print(x, end=\" \")\n",
    "print(\"\\nBoucle interrompue pour x =\", x)\n"
   ]
  },
  {
   "cell_type": "code",
   "execution_count": 34,
   "metadata": {},
   "outputs": [
    {
     "name": "stdout",
     "output_type": "stream",
     "text": [
      "h e l l o   C a p 2 a 3.14 0 1 2 3 4 "
     ]
    }
   ],
   "source": [
    "for lettre in \"hello Cap\":\n",
    "    print(lettre, end=\" \") \n",
    "for x in [2, 'a', 3.14]:\n",
    "    print(x, end= \" \") # 2 a 3.14\n",
    "for i in range(5):\n",
    "    print(i, end=\" \") # 0 1 2 3 4"
   ]
  },
  {
   "cell_type": "code",
   "execution_count": 27,
   "metadata": {},
   "outputs": [
    {
     "name": "stdout",
     "output_type": "stream",
     "text": [
      "L’approximation de log2 de 257 est 8 \n",
      "\n"
     ]
    }
   ],
   "source": [
    "x, cpt = 257, 0\n",
    "print(\"L’approximation de log2 de\", x, \"est\", end=\" \")\n",
    "while x > 1:\n",
    "    x //= 2 # division avec troncature\n",
    "    cpt += 1 # incrémentation\n",
    "print(cpt, \"\\n\") # 8"
   ]
  },
  {
   "cell_type": "code",
   "execution_count": 3,
   "metadata": {},
   "outputs": [
    {
     "name": "stdout",
     "output_type": "stream",
     "text": [
      "True\n",
      "False\n",
      "False\n",
      "h is part of habib\n",
      "b e n l a h m a r \r\n",
      "True\n",
      "False\n"
     ]
    }
   ],
   "source": [
    "# showing logical operation\n",
    "# or (returns True)\n",
    "print(True or False)\n",
    "\n",
    "# showing logical operation\n",
    "# and (returns False)\n",
    "print(False and True)\n",
    "\n",
    "# showing logical operation\n",
    "# not (returns False)\n",
    "print(not True)\n",
    "\n",
    "# using \"in\" to check\n",
    "if 'h' in 'habib':\n",
    "\tprint(\"h is part of habib\")\n",
    "else:\n",
    "\tprint(\"h is not part of habib\")\n",
    "\n",
    "# using \"in\" to loop through\n",
    "for i in 'benlahmar':\n",
    "\tprint(i, end=\" \")\n",
    "\n",
    "print(\"\\r\")\n",
    "\n",
    "# using is to check object identity\n",
    "# string is immutable( cannot be changed once allocated)\n",
    "# hence occupy same memory location\n",
    "print(' ' is ' ')\n",
    "\n",
    "# using is to check object identity\n",
    "# dictionary is mutable( can be changed once allocated)\n",
    "# hence occupy different memory location\n",
    "print({} is {})\n"
   ]
  },
  {
   "cell_type": "code",
   "execution_count": 1,
   "metadata": {},
   "outputs": [
    {
     "name": "stdout",
     "output_type": "stream",
     "text": [
      "0 1 2 3 4 5 6 \n",
      "0 1 2 3 4 5 7 8 9 "
     ]
    }
   ],
   "source": [
    "# Using for loop\n",
    "for i in range(10):\n",
    "\n",
    "\tprint(i, end = \" \")\n",
    "\t\n",
    "\t# break the loop as soon it sees 6\n",
    "\tif i == 6:\n",
    "\t\tbreak\n",
    "\t\n",
    "print()\n",
    "\t\n",
    "# loop from 1 to 10\n",
    "i = 0\n",
    "while i <10:\n",
    "\t\n",
    "\tif i == 6:\n",
    "\t\ti+= 1\n",
    "\t\tcontinue\n",
    "\telse:\n",
    "\t\tprint(i, end = \" \")\n",
    "\ti += 1\n"
   ]
  },
  {
   "cell_type": "code",
   "execution_count": null,
   "metadata": {},
   "outputs": [],
   "source": []
  },
  {
   "cell_type": "code",
   "execution_count": 4,
   "metadata": {},
   "outputs": [
    {
     "name": "stdout",
     "output_type": "stream",
     "text": [
      "i is 20\n"
     ]
    }
   ],
   "source": [
    "# Python program to illustrate if-elif-else ladder\n",
    "#!/usr/bin/python\n",
    "\n",
    "i = 20\n",
    "if (i == 10):\n",
    "\tprint (\"i is 10\")\n",
    "elif (i == 20):\n",
    "\tprint (\"i is 20\")\n",
    "else:\n",
    "\tprint (\"i is not present\")\n"
   ]
  },
  {
   "cell_type": "code",
   "execution_count": 37,
   "metadata": {},
   "outputs": [
    {
     "name": "stdout",
     "output_type": "stream",
     "text": [
      "['Cap', 'Atos', 'Sofrecom', 'Cgi']\n",
      "['Cap', 14, 'Sofrecom', 'Cgi']\n",
      "[['a', 'b'], [4, 2.718]]\n"
     ]
    }
   ],
   "source": [
    "sii = ['Cap', 'Atos', 'Sofrecom', 'Cgi']\n",
    "print(sii) \n",
    "sii[1] = 14\n",
    "print(sii) \n",
    "list1 = ['a', 'b']\n",
    "list2 = [4, 2.718]\n",
    "list3 = [list1, list2] # liste de listes\n",
    "print(list3) # [[’a’, ’b’], [4, 2.718]]"
   ]
  },
  {
   "cell_type": "code",
   "execution_count": 38,
   "metadata": {},
   "outputs": [
    {
     "name": "stdout",
     "output_type": "stream",
     "text": [
      "[10, 17, 25, 38, 72]\n",
      "[12, 72, 25, 17, 10]\n",
      "3\n",
      "10\n",
      "[11, 14, 17, 2, 17]\n",
      "2\n",
      "[11, 14, 17, 2, 17, 1, 2, 3]\n"
     ]
    }
   ],
   "source": [
    "nombres = [17, 38, 10, 25, 72]\n",
    "nombres.sort()\n",
    "print(nombres) # [10, 17, 25, 38, 72]\n",
    "nombres.append(12)\n",
    "nombres.reverse()\n",
    "nombres.remove(38)\n",
    "print(nombres) # [12, 72, 25, 17, 10]\n",
    "print(nombres.index(17)) # 3\n",
    "nombres[0] = 11\n",
    "nombres[1:3] = [14, 17, 2]\n",
    "print(nombres.pop()) # 10\n",
    "print(nombres) # [11, 14, 17, 2, 17]\n",
    "print(nombres.count(17)) # 2\n",
    "nombres.extend([1, 2, 3])\n",
    "print(nombres) # [11, 14, 17, 2, 17, 1, 2, 3]"
   ]
  },
  {
   "cell_type": "code",
   "execution_count": 46,
   "metadata": {},
   "outputs": [],
   "source": [
    "une_seq = [12, 72, 25, 17, 10]\n",
    "une_autre = [11, 14, 17, 2, 17, 1, 2, 3]\n",
    "\n",
    "result1 = [x+1 for x in une_seq]\n",
    "# a le même effet que :\n",
    "result2 = []\n",
    "for x in une_seq:\n",
    "    result2.append(x+1)\n",
    "\n",
    "#Deuxième forme expression d’une liste de valeurs avec filtrage :\n",
    "result3 = [x+1 for x in une_seq if x > 23]\n",
    "# a le même effet que :\n",
    "\n",
    "result4 = []\n",
    "for x in une_seq:\n",
    "    if x > 23:\n",
    "        result4.append(x+1)\n",
    "\n",
    "#Troisième forme expression d’une combinaison de listes de valeurs :\n",
    "result5 = [x+y for x in une_seq for y in une_autre]\n",
    "# a le même effet que :\n",
    "result6 = []\n",
    "for x in une_seq:\n",
    "    for y in une_autre:\n",
    "        result6.append(x+y)"
   ]
  },
  {
   "cell_type": "code",
   "execution_count": 47,
   "metadata": {},
   "outputs": [
    {
     "name": "stdout",
     "output_type": "stream",
     "text": [
      "761\n",
      "761\n",
      "[[0, 0], [0, 0], [0, 0]]\n"
     ]
    }
   ],
   "source": [
    "valeurs_s = [\"12\", \"78\", \"671\"]\n",
    "# conversion d’une liste de chaînes en liste d’entier\n",
    "valeurs_i = [int(i) for i in valeurs_s] # [12, 78, 671]\n",
    "\n",
    "# calcul de la somme de la liste avec la fonction intégrée sum\n",
    "print(sum([int(i) for i in valeurs_s])) # 761\n",
    "# a le même effet que :\n",
    "s = 0\n",
    "for i in valeurs_s:\n",
    "    s = s + int(i)\n",
    "print(s) # 761\n",
    "\n",
    "# Initialisation d’une liste 2D\n",
    "multi_liste = [[0]*2 for ligne in range(3)]\n",
    "print(multi_liste) # [[0, 0], [0, 0], [0, 0]]"
   ]
  },
  {
   "cell_type": "code",
   "execution_count": 52,
   "metadata": {},
   "outputs": [
    {
     "data": {
      "text/plain": [
       "[0, 0]"
      ]
     },
     "execution_count": 52,
     "metadata": {},
     "output_type": "execute_result"
    }
   ],
   "source": [
    "[0]*2"
   ]
  },
  {
   "cell_type": "code",
   "execution_count": 53,
   "metadata": {},
   "outputs": [
    {
     "name": "stdout",
     "output_type": "stream",
     "text": [
      "{'nom': 3, 'taille': 176}\n",
      "{'nom': 3, 'taille': 176}\n",
      "{2: 4, 4: 16, 6: 36}\n",
      "{'nom': 3, 'taille': 176}\n",
      "{'nom': 3, 'taille': 176}\n"
     ]
    }
   ],
   "source": [
    "# insertion de clés/valeurs une à une\n",
    "d1 = {} # dictionnaire vide\n",
    "d1[\"nom\"] = 3\n",
    "d1[\"taille\"] = 176\n",
    "print(d1) # {’nom’: 3, ’taille’: 176}\n",
    "# définition en extension\n",
    "d2 = {\"nom\": 3, \"taille\": 176}\n",
    "print(d2) # {’nom’: 3, ’taille’: 176}\n",
    "# définition en intension\n",
    "d3 = {x: x**2 for x in (2, 4, 6)}\n",
    "print(d3) # {2: 4, 4: 16, 6: 36}\n",
    "# utilisation de paramètres nommés\n",
    "d4 = dict(nom=3, taille=176)\n",
    "print(d4) # {’taille’: 176, ’nom’: 3}\n",
    "# utilisation d’une liste de couples clés/valeurs\n",
    "d5 = dict([(\"nom\", 3), (\"taille\", 176)])\n",
    "print(d5) # {’nom’: 3, ’taille’: 176}"
   ]
  },
  {
   "cell_type": "code",
   "execution_count": null,
   "metadata": {},
   "outputs": [],
   "source": []
  },
  {
   "cell_type": "code",
   "execution_count": null,
   "metadata": {},
   "outputs": [],
   "source": []
  },
  {
   "cell_type": "markdown",
   "metadata": {},
   "source": [
    "fonctions"
   ]
  },
  {
   "cell_type": "code",
   "execution_count": 5,
   "metadata": {},
   "outputs": [
    {
     "name": "stdout",
     "output_type": "stream",
     "text": [
      "Inside Function\n"
     ]
    }
   ],
   "source": [
    "# def keyword\n",
    "def fun():\n",
    "\tprint(\"corps Function\")\n",
    "\t\n",
    "fun()\n"
   ]
  },
  {
   "cell_type": "code",
   "execution_count": null,
   "metadata": {},
   "outputs": [],
   "source": [
    "return : Ce mot clé est utilisé pour revenir de la fonction.\n",
    "Yield : Ce mot-clé est utilisé comme instruction return mais est utilisé pour retourner un générateur."
   ]
  },
  {
   "cell_type": "code",
   "execution_count": 13,
   "metadata": {},
   "outputs": [
    {
     "name": "stdout",
     "output_type": "stream",
     "text": [
      "fun 1:   45\n",
      "0\n",
      "1\n",
      "3\n",
      "6\n",
      "10\n",
      "15\n",
      "21\n",
      "28\n",
      "36\n",
      "45\n"
     ]
    }
   ],
   "source": [
    "# Return keyword\n",
    "def fun1():\n",
    "\tS = 0\n",
    "\t\n",
    "\tfor i in range(10):\n",
    "\t\tS += i\n",
    "\treturn S\n",
    "\n",
    "print('fun 1:  ',fun1())\n",
    "\n",
    "# Yield Keyword\n",
    "def fun2():\n",
    "\tS = 0\n",
    "\t\n",
    "\tfor i in range(10):\n",
    "\t\tS += i\n",
    "\t\tyield S\n",
    "\n",
    "for i in fun2():\n",
    "\tprint(i)\n"
   ]
  },
  {
   "cell_type": "code",
   "execution_count": 14,
   "metadata": {},
   "outputs": [
    {
     "name": "stdout",
     "output_type": "stream",
     "text": [
      "<generator object fun2 at 0x00000000052A01C8>\n"
     ]
    }
   ],
   "source": [
    "xx=fun2()\n",
    "print(xx)"
   ]
  },
  {
   "cell_type": "code",
   "execution_count": null,
   "metadata": {},
   "outputs": [],
   "source": []
  },
  {
   "cell_type": "code",
   "execution_count": null,
   "metadata": {},
   "outputs": [],
   "source": []
  },
  {
   "cell_type": "code",
   "execution_count": null,
   "metadata": {},
   "outputs": [],
   "source": []
  },
  {
   "cell_type": "code",
   "execution_count": null,
   "metadata": {},
   "outputs": [],
   "source": []
  },
  {
   "cell_type": "code",
   "execution_count": 16,
   "metadata": {},
   "outputs": [
    {
     "name": "stdout",
     "output_type": "stream",
     "text": [
      "mammal\n",
      "I'm a mammal\n",
      "I'm a dog\n"
     ]
    }
   ],
   "source": [
    "class Dog:\n",
    "      \n",
    "    # A simple class\n",
    "    # attribute\n",
    "    attr1 = \"mammal\"\n",
    "    attr2 = \"dog\"\n",
    "  \n",
    "    # A sample method\n",
    "    def fun(self):\n",
    "        print(\"I'm a\", self.attr1)\n",
    "        print(\"I'm a\", self.attr2)\n",
    "  \n",
    "# Driver code\n",
    "# Object instantiation\n",
    "Rodger = Dog()\n",
    "  \n",
    "# Accessing class attributes\n",
    "# and method through objects\n",
    "print(Rodger.attr1)\n",
    "Rodger.fun()"
   ]
  },
  {
   "cell_type": "code",
   "execution_count": null,
   "metadata": {},
   "outputs": [],
   "source": []
  },
  {
   "cell_type": "code",
   "execution_count": null,
   "metadata": {},
   "outputs": [],
   "source": []
  },
  {
   "cell_type": "code",
   "execution_count": null,
   "metadata": {},
   "outputs": [],
   "source": []
  },
  {
   "cell_type": "markdown",
   "metadata": {},
   "source": [
    "Fichiers"
   ]
  },
  {
   "cell_type": "code",
   "execution_count": 17,
   "metadata": {},
   "outputs": [],
   "source": [
    "with open('file_path', 'w') as file:\n",
    "    file.write('hello world !')"
   ]
  },
  {
   "cell_type": "code",
   "execution_count": null,
   "metadata": {},
   "outputs": [],
   "source": []
  },
  {
   "cell_type": "code",
   "execution_count": null,
   "metadata": {},
   "outputs": [],
   "source": []
  },
  {
   "cell_type": "code",
   "execution_count": 18,
   "metadata": {},
   "outputs": [
    {
     "name": "stdout",
     "output_type": "stream",
     "text": [
      "120\n"
     ]
    }
   ],
   "source": [
    "import math as blabla\n",
    "  \n",
    "print(blabla.factorial(5))"
   ]
  },
  {
   "cell_type": "code",
   "execution_count": 54,
   "metadata": {},
   "outputs": [],
   "source": [
    "n = 10\n",
    "for i in range(n):\n",
    "      \n",
    "# pass can be used as placeholder\n",
    "# when code is to added later\n",
    "    pass"
   ]
  },
  {
   "cell_type": "markdown",
   "metadata": {},
   "source": [
    "Lambda"
   ]
  },
  {
   "cell_type": "code",
   "execution_count": 20,
   "metadata": {},
   "outputs": [
    {
     "name": "stdout",
     "output_type": "stream",
     "text": [
      "343\n"
     ]
    }
   ],
   "source": [
    "# Lambda keyword\n",
    "g = lambda x: x*x*x\n",
    "  \n",
    "print(g(7))"
   ]
  },
  {
   "cell_type": "code",
   "execution_count": 21,
   "metadata": {},
   "outputs": [
    {
     "name": "stdout",
     "output_type": "stream",
     "text": [
      "Can't divide by zero\n",
      "This is always executed\n",
      "The value of a / b is : \n"
     ]
    },
    {
     "ename": "AssertionError",
     "evalue": "Divide by 0 error",
     "output_type": "error",
     "traceback": [
      "\u001b[1;31m---------------------------------------------------------------------------\u001b[0m",
      "\u001b[1;31mAssertionError\u001b[0m                            Traceback (most recent call last)",
      "\u001b[1;32m<ipython-input-21-98cba14f2d2d>\u001b[0m in \u001b[0;36m<module>\u001b[1;34m\u001b[0m\n\u001b[0;32m     20\u001b[0m \u001b[1;31m# using assert to check for 0\u001b[0m\u001b[1;33m\u001b[0m\u001b[1;33m\u001b[0m\u001b[1;33m\u001b[0m\u001b[0m\n\u001b[0;32m     21\u001b[0m \u001b[0mprint\u001b[0m \u001b[1;33m(\u001b[0m\u001b[1;34m\"The value of a / b is : \"\u001b[0m\u001b[1;33m)\u001b[0m\u001b[1;33m\u001b[0m\u001b[1;33m\u001b[0m\u001b[0m\n\u001b[1;32m---> 22\u001b[1;33m \u001b[1;32massert\u001b[0m \u001b[0mb\u001b[0m \u001b[1;33m!=\u001b[0m \u001b[1;36m0\u001b[0m\u001b[1;33m,\u001b[0m \u001b[1;34m\"Divide by 0 error\"\u001b[0m\u001b[1;33m\u001b[0m\u001b[1;33m\u001b[0m\u001b[0m\n\u001b[0m\u001b[0;32m     23\u001b[0m \u001b[0mprint\u001b[0m \u001b[1;33m(\u001b[0m\u001b[0ma\u001b[0m \u001b[1;33m/\u001b[0m \u001b[0mb\u001b[0m\u001b[1;33m)\u001b[0m\u001b[1;33m\u001b[0m\u001b[1;33m\u001b[0m\u001b[0m\n",
      "\u001b[1;31mAssertionError\u001b[0m: Divide by 0 error"
     ]
    }
   ],
   "source": [
    "# initializing number\n",
    "a = 4\n",
    "b = 0\n",
    "  \n",
    "# No exception Exception raised in try block\n",
    "try:\n",
    "    k = a//b # raises divide by zero exception.\n",
    "    print(k)\n",
    "  \n",
    "# handles zerodivision exception\n",
    "except ZeroDivisionError:\n",
    "    print(\"Can't divide by zero\")\n",
    "  \n",
    "finally:\n",
    "    # this block is always executed\n",
    "    # regardless of exception generation.\n",
    "    print('This is always executed')\n",
    "  \n",
    "# assert Keyword  \n",
    "# using assert to check for 0\n",
    "print (\"The value of a / b is : \")\n",
    "assert b != 0, \"Divide by 0 error\"\n",
    "print (a / b)"
   ]
  },
  {
   "cell_type": "code",
   "execution_count": null,
   "metadata": {},
   "outputs": [],
   "source": []
  },
  {
   "cell_type": "code",
   "execution_count": 23,
   "metadata": {},
   "outputs": [
    {
     "name": "stdout",
     "output_type": "stream",
     "text": [
      "20\n",
      "koko\n",
      "\n"
     ]
    },
    {
     "ename": "NameError",
     "evalue": "name 'my_variable1' is not defined",
     "output_type": "error",
     "traceback": [
      "\u001b[1;31m---------------------------------------------------------------------------\u001b[0m",
      "\u001b[1;31mNameError\u001b[0m                                 Traceback (most recent call last)",
      "\u001b[1;32m<ipython-input-23-39ed58fe16ec>\u001b[0m in \u001b[0;36m<module>\u001b[1;34m\u001b[0m\n\u001b[0;32m     11\u001b[0m \u001b[1;33m\u001b[0m\u001b[0m\n\u001b[0;32m     12\u001b[0m \u001b[1;31m# check if my_variable1 and my_variable2 exists\u001b[0m\u001b[1;33m\u001b[0m\u001b[1;33m\u001b[0m\u001b[1;33m\u001b[0m\u001b[0m\n\u001b[1;32m---> 13\u001b[1;33m \u001b[0mprint\u001b[0m\u001b[1;33m(\u001b[0m\u001b[0mmy_variable1\u001b[0m\u001b[1;33m)\u001b[0m\u001b[1;33m\u001b[0m\u001b[1;33m\u001b[0m\u001b[0m\n\u001b[0m\u001b[0;32m     14\u001b[0m \u001b[0mprint\u001b[0m\u001b[1;33m(\u001b[0m\u001b[0mmy_variable2\u001b[0m\u001b[1;33m)\u001b[0m\u001b[1;33m\u001b[0m\u001b[1;33m\u001b[0m\u001b[0m\n",
      "\u001b[1;31mNameError\u001b[0m: name 'my_variable1' is not defined"
     ]
    }
   ],
   "source": [
    "my_variable1 = 20\n",
    "my_variable2 = \"koko\"\n",
    "\n",
    "# check if my_variable1 and my_variable2 exists\n",
    "print(my_variable1)\n",
    "print(my_variable2)\n",
    "print()\n",
    "# delete both the variables\n",
    "del my_variable1\n",
    "del my_variable2\n",
    "\n",
    "# check if my_variable1 and my_variable2 exists\n",
    "print(my_variable1)\n",
    "print(my_variable2)\n"
   ]
  },
  {
   "cell_type": "code",
   "execution_count": 24,
   "metadata": {},
   "outputs": [
    {
     "name": "stdout",
     "output_type": "stream",
     "text": [
      "Enter your value: 477\n",
      "477\n"
     ]
    }
   ],
   "source": [
    "# Python program showing \n",
    "# a use of input()\n",
    "  \n",
    "val = input(\"Enter your value: \")\n",
    "print(val)"
   ]
  },
  {
   "cell_type": "code",
   "execution_count": null,
   "metadata": {},
   "outputs": [],
   "source": []
  }
 ],
 "metadata": {
  "kernelspec": {
   "display_name": "Python 3",
   "language": "python",
   "name": "python3"
  },
  "language_info": {
   "codemirror_mode": {
    "name": "ipython",
    "version": 3
   },
   "file_extension": ".py",
   "mimetype": "text/x-python",
   "name": "python",
   "nbconvert_exporter": "python",
   "pygments_lexer": "ipython3",
   "version": "3.7.6"
  }
 },
 "nbformat": 4,
 "nbformat_minor": 4
}
